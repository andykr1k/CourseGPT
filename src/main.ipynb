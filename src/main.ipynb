{
 "cells": [
  {
   "cell_type": "markdown",
   "metadata": {},
   "source": [
    "# Setup"
   ]
  },
  {
   "cell_type": "markdown",
   "metadata": {},
   "source": [
    "## Importing Libraries"
   ]
  },
  {
   "cell_type": "code",
   "execution_count": 1,
   "metadata": {},
   "outputs": [],
   "source": [
    "from dotenv import load_dotenv\n",
    "import os\n",
    "from langchain_community.document_loaders import JSONLoader\n",
    "from langchain_openai import OpenAIEmbeddings\n",
    "from langchain.text_splitter import CharacterTextSplitter\n",
    "from langchain_community.vectorstores import Chroma\n",
    "from langchain.storage import InMemoryByteStore\n",
    "from langchain.embeddings import CacheBackedEmbeddings\n",
    "from langchain_community.vectorstores import Qdrant"
   ]
  },
  {
   "cell_type": "markdown",
   "metadata": {},
   "source": [
    "## Importing ENV Variables"
   ]
  },
  {
   "cell_type": "code",
   "execution_count": 19,
   "metadata": {},
   "outputs": [
    {
     "data": {
      "text/plain": [
       "True"
      ]
     },
     "execution_count": 19,
     "metadata": {},
     "output_type": "execute_result"
    }
   ],
   "source": [
    "load_dotenv('../.env')"
   ]
  },
  {
   "cell_type": "code",
   "execution_count": 21,
   "metadata": {},
   "outputs": [],
   "source": [
    "os.environ['OPENAI_API_KEY'] = os.getenv('OPENAI_API_KEY')"
   ]
  },
  {
   "cell_type": "markdown",
   "metadata": {},
   "source": [
    "## Setting Up Embedddings and In-Memory Cache"
   ]
  },
  {
   "cell_type": "code",
   "execution_count": 22,
   "metadata": {},
   "outputs": [],
   "source": [
    "underlying_embeddings = OpenAIEmbeddings()\n",
    "\n",
    "store = InMemoryByteStore()\n",
    "\n",
    "cached_embedder = CacheBackedEmbeddings.from_bytes_store(\n",
    "    underlying_embeddings, store, namespace=underlying_embeddings.model\n",
    ")"
   ]
  },
  {
   "cell_type": "code",
   "execution_count": 23,
   "metadata": {},
   "outputs": [
    {
     "data": {
      "text/plain": [
       "[]"
      ]
     },
     "execution_count": 23,
     "metadata": {},
     "output_type": "execute_result"
    }
   ],
   "source": [
    "list(store.yield_keys())"
   ]
  },
  {
   "cell_type": "markdown",
   "metadata": {},
   "source": [
    "## Loading JSON Data"
   ]
  },
  {
   "cell_type": "code",
   "execution_count": 24,
   "metadata": {},
   "outputs": [],
   "source": [
    "loader = JSONLoader(\n",
    "    file_path='../data/Winter2024.json',\n",
    "    jq_schema='.[]',\n",
    "    text_content=False\n",
    ")\n",
    "\n",
    "json_data = loader.load()"
   ]
  },
  {
   "cell_type": "code",
   "execution_count": 25,
   "metadata": {},
   "outputs": [
    {
     "data": {
      "text/plain": [
       "8779"
      ]
     },
     "execution_count": 25,
     "metadata": {},
     "output_type": "execute_result"
    }
   ],
   "source": [
    "len(json_data)"
   ]
  },
  {
   "cell_type": "code",
   "execution_count": 26,
   "metadata": {},
   "outputs": [
    {
     "name": "stdout",
     "output_type": "stream",
     "text": [
      "page_content='{\"course_name\": \"CULTURAL ANTHROPOLOGY\", \"course_crn\": \"30106\", \"course_id\": \"ANTH 001\", \"course_section\": \"001\", \"course_pre\": \"\", \"course_description\": \"4 Units# Lecture# 3 hours; discussion# 1 hour. Explores the basic contributions of anthropology to the understanding of human behavior and culture and the explanation of similarities and differences among human societies. Addresses the relevance of materials drawn from tribal and peasant culture to problems of the modern world. Stresses the application of anthropological methods to research problems. Credit is awarded for one of the following  ANTH 001#  ANTH 001H# or ANTH 001W.\", \"course_type\": \"Lecture\", \"course_time\": \"2:00 pm - 3:20 pm\", \"course_days\": \"MW\", \"course_location\": \"Online\", \"course_dates\": \"Jan 08 2024 - Mar 15 2024\", \"course_type2\": \"Lecture\", \"course_professor\": \"Worku Nida\", \"null\": null}' metadata={'source': '/Users/andrew/Desktop/Projects/CourseGPT/data/Winter2024.json', 'seq_num': 1}\n"
     ]
    }
   ],
   "source": [
    "print(json_data[0])"
   ]
  },
  {
   "cell_type": "markdown",
   "metadata": {},
   "source": [
    "## Splitting Data"
   ]
  },
  {
   "cell_type": "code",
   "execution_count": 27,
   "metadata": {},
   "outputs": [],
   "source": [
    "splitter = CharacterTextSplitter()"
   ]
  },
  {
   "cell_type": "code",
   "execution_count": 28,
   "metadata": {},
   "outputs": [],
   "source": [
    "text_chunks = splitter.split_documents(json_data)"
   ]
  },
  {
   "cell_type": "markdown",
   "metadata": {},
   "source": [
    "## Creating Database"
   ]
  },
  {
   "cell_type": "code",
   "execution_count": 31,
   "metadata": {},
   "outputs": [],
   "source": [
    "db = Chroma.from_documents(text_chunks, underlying_embeddings)"
   ]
  },
  {
   "cell_type": "markdown",
   "metadata": {},
   "source": [
    "## Testing Similarity Search"
   ]
  },
  {
   "cell_type": "code",
   "execution_count": 36,
   "metadata": {},
   "outputs": [
    {
     "name": "stdout",
     "output_type": "stream",
     "text": [
      "{\"course_name\": \"CONCURRENT ANALYTICAL STUDIES IN MEDIA AND CULTURAL STUDIES\", \"course_crn\": \"37152\", \"course_id\": \"MCS 292\", \"course_section\": \"S41\", \"course_pre\": \"\", \"course_description\": \"1 to 4 Units# Research# 3 to 12 hours. Prerequisite(s): graduate standing; consent of instructor and graduate advisor. To be taken concurrently with a 100-series course# but on an individual basis. Limited to research# criticism# and written work.  Normally graded Satisfactory (S) or No Credit (NC)# but students may petition the instructor for a letter grade if specialized topics are studied. Course is repeatable.\", \"course_type\": \"Research\", \"course_time\": \"TBA\", \"course_days\": \"\", \"course_location\": \"TBA\", \"course_dates\": \"Jan 08 2024 - Mar 15 2024\", \"course_type2\": \"Research\", \"course_professor\": \"Andrea L. Smith\", \"null\": null}\n"
     ]
    }
   ],
   "source": [
    "query = \"When is CS100 offered\"\n",
    "docs = db.similarity_search(query)\n",
    "print(docs[0].page_content)"
   ]
  }
 ],
 "metadata": {
  "kernelspec": {
   "display_name": "env",
   "language": "python",
   "name": "python3"
  },
  "language_info": {
   "codemirror_mode": {
    "name": "ipython",
    "version": 3
   },
   "file_extension": ".py",
   "mimetype": "text/x-python",
   "name": "python",
   "nbconvert_exporter": "python",
   "pygments_lexer": "ipython3",
   "version": "3.10.4"
  }
 },
 "nbformat": 4,
 "nbformat_minor": 2
}
